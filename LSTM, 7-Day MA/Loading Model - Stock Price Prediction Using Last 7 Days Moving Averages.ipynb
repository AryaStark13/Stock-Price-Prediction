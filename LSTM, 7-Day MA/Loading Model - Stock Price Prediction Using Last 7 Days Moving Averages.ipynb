{
 "cells": [
  {
   "cell_type": "code",
   "execution_count": 1,
   "id": "7e649a26",
   "metadata": {
    "ExecuteTime": {
     "end_time": "2022-02-07T05:51:21.502184Z",
     "start_time": "2022-02-07T05:51:16.375277Z"
    }
   },
   "outputs": [],
   "source": [
    "import tensorflow as tf\n",
    "from tensorflow.keras.models import load_model\n",
    "import numpy as np\n",
    "import pandas as pd\n",
    "import pandas_datareader as data\n",
    "import datetime\n",
    "import matplotlib.pyplot as plt"
   ]
  },
  {
   "cell_type": "code",
   "execution_count": 2,
   "id": "7b46a9bd",
   "metadata": {
    "ExecuteTime": {
     "end_time": "2022-02-07T05:51:22.466117Z",
     "start_time": "2022-02-07T05:51:21.503122Z"
    }
   },
   "outputs": [],
   "source": [
    "model = load_model('Future Stock Prediction Using Last 7 Days Moving Averages.h5')"
   ]
  },
  {
   "cell_type": "code",
   "execution_count": 3,
   "id": "d72fe4db",
   "metadata": {
    "ExecuteTime": {
     "end_time": "2022-02-07T05:51:27.397678Z",
     "start_time": "2022-02-07T05:51:22.467115Z"
    }
   },
   "outputs": [
    {
     "name": "stdout",
     "output_type": "stream",
     "text": [
      "Enter Stock Ticker: AURIONPRO.NS\n"
     ]
    }
   ],
   "source": [
    "user_input = input('Enter Stock Ticker: ')"
   ]
  },
  {
   "cell_type": "code",
   "execution_count": 4,
   "id": "7f528c8b",
   "metadata": {
    "ExecuteTime": {
     "end_time": "2022-02-07T05:51:27.413635Z",
     "start_time": "2022-02-07T05:51:27.399673Z"
    }
   },
   "outputs": [],
   "source": [
    "start_date = datetime.date.today() - datetime.timedelta(30)\n",
    "end_date = datetime.date.today()"
   ]
  },
  {
   "cell_type": "code",
   "execution_count": 5,
   "id": "fd308f10",
   "metadata": {
    "ExecuteTime": {
     "end_time": "2022-02-07T05:51:28.935267Z",
     "start_time": "2022-02-07T05:51:27.415631Z"
    }
   },
   "outputs": [],
   "source": [
    "df = data.DataReader(user_input, 'yahoo', start_date, end_date)"
   ]
  },
  {
   "cell_type": "code",
   "execution_count": 6,
   "id": "e65c7acc",
   "metadata": {
    "ExecuteTime": {
     "end_time": "2022-02-07T05:51:28.951176Z",
     "start_time": "2022-02-07T05:51:28.936214Z"
    },
    "scrolled": true
   },
   "outputs": [],
   "source": [
    "df.reset_index(inplace=True)"
   ]
  },
  {
   "cell_type": "code",
   "execution_count": 7,
   "id": "72942c38",
   "metadata": {
    "ExecuteTime": {
     "end_time": "2022-02-07T05:51:28.967131Z",
     "start_time": "2022-02-07T05:51:28.952172Z"
    }
   },
   "outputs": [],
   "source": [
    "x_future = np.array(df.Close.rolling(7).mean()[-7:])"
   ]
  },
  {
   "cell_type": "code",
   "execution_count": 8,
   "id": "9d0ee672",
   "metadata": {
    "ExecuteTime": {
     "end_time": "2022-02-07T05:51:28.983089Z",
     "start_time": "2022-02-07T05:51:28.969127Z"
    }
   },
   "outputs": [],
   "source": [
    "scale = max(x_future) - min(x_future)\n",
    "minimum = min(x_future)\n",
    "\n",
    "for i in range(0, len(x_future)):\n",
    "    x_future[i] = (x_future[i] - minimum) / scale\n",
    "\n",
    "x_future = np.reshape(x_future, (1, 7, 1))"
   ]
  },
  {
   "cell_type": "code",
   "execution_count": 9,
   "id": "d2b242e1",
   "metadata": {
    "ExecuteTime": {
     "end_time": "2022-02-07T05:51:29.848920Z",
     "start_time": "2022-02-07T05:51:28.986081Z"
    }
   },
   "outputs": [],
   "source": [
    "y_future = []\n",
    "\n",
    "while len(y_future) < 7:\n",
    "#     Predicting future values using 7-day moving averages of the last day 7 days.\n",
    "    p = model.predict(x_future)[0]\n",
    "    \n",
    "#     Appending the predicted value to y_future\n",
    "    y_future.append(p)\n",
    "    \n",
    "#     Updating input variable, x_future\n",
    "    x_future = np.roll(x_future, -1)\n",
    "    x_future[-1] = p"
   ]
  },
  {
   "cell_type": "code",
   "execution_count": 10,
   "id": "5fab9f8e",
   "metadata": {
    "ExecuteTime": {
     "end_time": "2022-02-07T05:51:29.864857Z",
     "start_time": "2022-02-07T05:51:29.850894Z"
    }
   },
   "outputs": [],
   "source": [
    "y_future = np.array(y_future)\n",
    "y_future = np.reshape(y_future, (7))"
   ]
  },
  {
   "cell_type": "code",
   "execution_count": 11,
   "id": "ae337afd",
   "metadata": {
    "ExecuteTime": {
     "end_time": "2022-02-07T05:51:29.880785Z",
     "start_time": "2022-02-07T05:51:29.866852Z"
    }
   },
   "outputs": [],
   "source": [
    "for i in range(0, len(y_future)):\n",
    "    y_future[i] = (y_future[i] * scale) + minimum"
   ]
  },
  {
   "cell_type": "code",
   "execution_count": 12,
   "id": "86b8f473",
   "metadata": {
    "ExecuteTime": {
     "end_time": "2022-02-07T05:51:29.896738Z",
     "start_time": "2022-02-07T05:51:29.881780Z"
    }
   },
   "outputs": [],
   "source": [
    "y_future = np.reshape(y_future, (7, 1))"
   ]
  },
  {
   "cell_type": "code",
   "execution_count": 13,
   "id": "2b6d68e3",
   "metadata": {
    "ExecuteTime": {
     "end_time": "2022-02-07T05:51:29.912153Z",
     "start_time": "2022-02-07T05:51:29.897736Z"
    }
   },
   "outputs": [],
   "source": [
    "last7 = pd.DataFrame(df.Close[-7:])\n",
    "last7.reset_index(drop=True, inplace=True)\n",
    "y_future = pd.DataFrame(y_future, columns=['Close'])\n",
    "predictions = pd.concat([last7, y_future], ignore_index=True)"
   ]
  },
  {
   "cell_type": "code",
   "execution_count": 14,
   "id": "4985c6c5",
   "metadata": {
    "ExecuteTime": {
     "end_time": "2022-02-07T05:51:30.116991Z",
     "start_time": "2022-02-07T05:51:29.913146Z"
    }
   },
   "outputs": [
    {
     "data": {
      "image/png": "[encoded data removed]",
      "text/plain": [
       "<Figure size 1080x432 with 1 Axes>"
      ]
     },
     "metadata": {
      "needs_background": "light"
     },
     "output_type": "display_data"
    }
   ],
   "source": [
    "plt.figure(figsize=(15, 6))\n",
    "plt.plot(predictions[:7], '-', label='Last 7 Days True Values')\n",
    "plt.plot(predictions[6:8], ':')\n",
    "plt.plot(predictions[7:], '--', label='Future 7 Days Predicted Values')\n",
    "plt.legend(fontsize=12)\n",
    "plt.show()"
   ]
  },
  {
   "cell_type": "code",
   "execution_count": 15,
   "id": "0fb1acc0",
   "metadata": {
    "ExecuteTime": {
     "end_time": "2022-02-07T05:51:30.243162Z",
     "start_time": "2022-02-07T05:51:30.117988Z"
    }
   },
   "outputs": [
    {
     "data": {
      "image/png": "[encoded data removed]",
      "text/plain": [
       "<Figure size 864x432 with 1 Axes>"
      ]
     },
     "metadata": {
      "needs_background": "light"
     },
     "output_type": "display_data"
    }
   ],
   "source": [
    "plt.figure(figsize=(12, 6))\n",
    "plt.plot(predictions[:7], '-', label='Past 7 Days True Values')\n",
    "plt.plot(predictions[6:8], ':')\n",
    "plt.plot(predictions[7:8], 'o', label='Next Day Predicted Value')\n",
    "plt.legend(fontsize=12)\n",
    "plt.show()"
   ]
  }
 ],
 "metadata": {
  "kernelspec": {
   "display_name": "Python 3 (ipykernel)",
   "language": "python",
   "name": "python3"
  },
  "language_info": {
   "codemirror_mode": {
    "name": "ipython",
    "version": 3
   },
   "file_extension": ".py",
   "mimetype": "text/x-python",
   "name": "python",
   "nbconvert_exporter": "python",
   "pygments_lexer": "ipython3",
   "version": "3.9.7"
  },
  "latex_envs": {
   "LaTeX_envs_menu_present": true,
   "autoclose": false,
   "autocomplete": true,
   "bibliofile": "biblio.bib",
   "cite_by": "apalike",
   "current_citInitial": 1,
   "eqLabelWithNumbers": true,
   "eqNumInitial": 1,
   "hotkeys": {
    "equation": "Ctrl-E",
    "itemize": "Ctrl-I"
   },
   "labels_anchors": false,
   "latex_user_defs": false,
   "report_style_numbering": false,
   "user_envs_cfg": false
  },
  "toc": {
   "base_numbering": 1,
   "nav_menu": {},
   "number_sections": true,
   "sideBar": true,
   "skip_h1_title": false,
   "title_cell": "Table of Contents",
   "title_sidebar": "Contents",
   "toc_cell": false,
   "toc_position": {},
   "toc_section_display": true,
   "toc_window_display": false
  },
  "varInspector": {
   "cols": {
    "lenName": 16,
    "lenType": 16,
    "lenVar": 40
   },
   "kernels_config": {
    "python": {
     "delete_cmd_postfix": "",
     "delete_cmd_prefix": "del ",
     "library": "var_list.py",
     "varRefreshCmd": "print(var_dic_list())"
    },
    "r": {
     "delete_cmd_postfix": ") ",
     "delete_cmd_prefix": "rm(",
     "library": "var_list.r",
     "varRefreshCmd": "cat(var_dic_list()) "
    }
   },
   "types_to_exclude": [
    "module",
    "function",
    "builtin_function_or_method",
    "instance",
    "_Feature"
   ],
   "window_display": false
  }
 },
 "nbformat": 4,
 "nbformat_minor": 5
}
